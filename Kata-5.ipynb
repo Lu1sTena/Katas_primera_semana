{
 "cells": [
  {
   "cell_type": "markdown",
   "metadata": {},
   "source": [
    "KATA 5"
   ]
  },
  {
   "cell_type": "code",
   "execution_count": 1,
   "metadata": {},
   "outputs": [],
   "source": [
    "# Crear variables para almacenar las dos distancias\n",
    "# ¡Asegúrate de quitar las comas!\n",
    "\n",
    "#Tierra (149.597.870 km) y Júpiter (778.547.200 km).\n",
    "\n",
    "dTierra = 149597870\n",
    "dJupiter = 778547200"
   ]
  },
  {
   "cell_type": "code",
   "execution_count": 3,
   "metadata": {},
   "outputs": [
    {
     "name": "stdout",
     "output_type": "stream",
     "text": [
      "Distancia en km : 628949330\n",
      "Distancia en millas : 390577534\n"
     ]
    }
   ],
   "source": [
    "# Calcular la distancia entre planetas\n",
    "\n",
    "conversion = 0.621\n",
    "dEntrePlanetas = abs(dJupiter - dTierra)\n",
    "dEntrePlanetas_millas = dEntrePlanetas * conversion\n",
    "\n",
    "print(f'Distancia en km : {dEntrePlanetas}')\n",
    "print(f'Distancia en millas : {round(dEntrePlanetas_millas)}')"
   ]
  },
  {
   "cell_type": "markdown",
   "metadata": {},
   "source": [
    "#EJERCICIO 2"
   ]
  },
  {
   "cell_type": "code",
   "execution_count": 9,
   "metadata": {},
   "outputs": [
    {
     "name": "stdout",
     "output_type": "stream",
     "text": [
      "Distancia entre planetas en millas es: 56945700.0\n"
     ]
    }
   ],
   "source": [
    "# Almacenar las entradas del usuario\n",
    "#Pista: variable = input(\"¿Cuál es tu nombre?\")\n",
    "\n",
    "distancia_1 = input('Ingresa distancia del planeta 1 : ')\n",
    "distancia_2 = input('Ingresa distancia del planeta 2 : ')\n",
    "\n",
    "# Convierte las cadenas de ambos planetas a números enteros\n",
    "\n",
    "intD1 = int(distancia_1)\n",
    "intD2 = int(distancia_2)\n",
    "\n",
    "# Realizar el cálculo y determinar el valor absoluto\n",
    "\n",
    "d_EntePlanetas = abs(intD1 - intD2)\n",
    "\n",
    "\n",
    "# Convertir de KM a Millas\n",
    "\n",
    "d_EntePlanetas *= conversion\n",
    "\n",
    "print(f'Distancia entre planetas en millas es: {d_EntePlanetas}')\n",
    "\n"
   ]
  },
  {
   "cell_type": "code",
   "execution_count": null,
   "metadata": {},
   "outputs": [],
   "source": []
  }
 ],
 "metadata": {
  "interpreter": {
   "hash": "aee8b7b246df8f9039afb4144a1f6fd8d2ca17a180786b69acc140d282b71a49"
  },
  "kernelspec": {
   "display_name": "Python 3.10.2 64-bit",
   "language": "python",
   "name": "python3"
  },
  "language_info": {
   "codemirror_mode": {
    "name": "ipython",
    "version": 3
   },
   "file_extension": ".py",
   "mimetype": "text/x-python",
   "name": "python",
   "nbconvert_exporter": "python",
   "pygments_lexer": "ipython3",
   "version": "3.10.2"
  },
  "orig_nbformat": 4
 },
 "nbformat": 4,
 "nbformat_minor": 2
}
