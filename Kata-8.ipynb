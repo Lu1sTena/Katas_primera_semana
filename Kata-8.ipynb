{
 "cells": [
  {
   "cell_type": "markdown",
   "metadata": {},
   "source": [
    "KATA 8"
   ]
  },
  {
   "cell_type": "code",
   "execution_count": 9,
   "metadata": {},
   "outputs": [
    {
     "name": "stdout",
     "output_type": "stream",
     "text": [
      "Nombre del planeta Mars\n",
      "Tiene 2 lunas\n",
      "Nombre del planeta: Mars\n",
      "Cicunferencia polar: 6752\n",
      "Cicunferencia polar: 6792\n"
     ]
    }
   ],
   "source": [
    "# Crea un diccionario llamado planet con los datos propuestos\n",
    "#name: Mars\n",
    "#moons: 2\n",
    "\n",
    "planet = {'name' : 'Mars',\n",
    "        'moons' : 2}\n",
    "\n",
    "# Muestra el nombre del planeta y el número de lunas que tiene.\n",
    "\n",
    "print(f'Nombre del planeta {planet[\"name\"]}' + '\\n' + f'Tiene {planet[\"moons\"]} lunas' )\n",
    "\n",
    "# Agrega la clave circunferencia con los datos proporcionados previamente\n",
    "#polar: 6752\n",
    "#equatorial: 6792\n",
    "\n",
    "planet['diametro'] = {'polar' : 6752, 'equatorial' : 6792}\n",
    "\n",
    "# Imprime el nombre del planeta con su circunferencia polar.\n",
    "\n",
    "print(f'Nombre del planeta: {planet[\"name\"]}')\n",
    "print(f'Cicunferencia polar: {planet[\"diametro\"][\"polar\"]}')\n",
    "print(f'Cicunferencia polar: {planet[\"diametro\"][\"equatorial\"]}')\n"
   ]
  },
  {
   "cell_type": "markdown",
   "metadata": {},
   "source": [
    "EJERCICIO 2"
   ]
  },
  {
   "cell_type": "code",
   "execution_count": 21,
   "metadata": {},
   "outputs": [
    {
     "name": "stdout",
     "output_type": "stream",
     "text": [
      "lista de lunas:  [0, 0, 1, 2, 79, 82, 27, 14, 5, 2, 1, 1]\n",
      "numero de planetas en lista:  12\n",
      "Total de lunas:  214\n",
      "Promedio de lunas:  17.833333333333332\n"
     ]
    }
   ],
   "source": [
    "# Planets and moons\n",
    "\n",
    "planet_moons = {\n",
    "    'mercury': 0,\n",
    "    'venus': 0,\n",
    "    'earth': 1,\n",
    "    'mars': 2,\n",
    "    'jupiter': 79,\n",
    "    'saturn': 82,\n",
    "    'uranus': 27,\n",
    "    'neptune': 14,\n",
    "    'pluto': 5,\n",
    "    'haumea': 2,\n",
    "    'makemake': 1,\n",
    "    'eris': 1\n",
    "}\n",
    "\n",
    "moons = []\n",
    "nPlanets = 0\n",
    "total_moons = 0\n",
    "average_moons = 0\n",
    "# Añade el código para determinar el número de lunas.\n",
    "\n",
    "for n in planet_moons.values():\n",
    "    moons.append(n)\n",
    "\n",
    "nPlanets = len(moons)\n",
    "print('lista de lunas: ',moons)\n",
    "print('numero de planetas en lista: ', nPlanets)\n",
    "\n",
    "# Agrega el código para contar el número de lunas. \n",
    "\n",
    "for j in planet_moons.values():\n",
    "    total_moons += j\n",
    "\n",
    "average_moons = total_moons/nPlanets\n",
    "\n",
    "print('Total de lunas: ', total_moons)\n",
    "print('Promedio de lunas: ', average_moons)\n"
   ]
  },
  {
   "cell_type": "code",
   "execution_count": null,
   "metadata": {},
   "outputs": [],
   "source": []
  }
 ],
 "metadata": {
  "interpreter": {
   "hash": "aee8b7b246df8f9039afb4144a1f6fd8d2ca17a180786b69acc140d282b71a49"
  },
  "kernelspec": {
   "display_name": "Python 3.10.2 64-bit",
   "language": "python",
   "name": "python3"
  },
  "language_info": {
   "codemirror_mode": {
    "name": "ipython",
    "version": 3
   },
   "file_extension": ".py",
   "mimetype": "text/x-python",
   "name": "python",
   "nbconvert_exporter": "python",
   "pygments_lexer": "ipython3",
   "version": "3.10.2"
  },
  "orig_nbformat": 4
 },
 "nbformat": 4,
 "nbformat_minor": 2
}
