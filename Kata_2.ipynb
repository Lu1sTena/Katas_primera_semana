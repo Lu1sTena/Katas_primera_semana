{
 "cells": [
  {
   "cell_type": "markdown",
   "metadata": {},
   "source": [
    "# Añadir el código necesario para crear una variable que guarde la velocidad del asteroide.\n",
    "# Escribe una expresión de prueba para calcular si necesita una advertencia.\n",
    "# Agregue las instrucciones que se ejecutarán si la expresión de prueba es true o false."
   ]
  },
  {
   "cell_type": "code",
   "execution_count": 2,
   "metadata": {},
   "outputs": [
    {
     "name": "stdout",
     "output_type": "stream",
     "text": [
      "No hay peligro\n"
     ]
    }
   ],
   "source": [
    "AsteroidVel = 20\n",
    "# Agrega el código para crear una variable para un asteroide que viaja a 19 km/s\n",
    "# Escribe varias expresiones de prueba para determinar si puedes ver el rayo de luz desde la tierra\n",
    "# Agrega las instrucciones que se ejecutarán si las expresiones de prueba son True o False\n",
    "\n",
    "if AsteroidVel > 25:\n",
    "    print('hay un asteroide camino a la tierra, cuidado!')\n",
    "else:\n",
    "    print(\"No hay peligro\")    "
   ]
  },
  {
   "cell_type": "code",
   "execution_count": 3,
   "metadata": {},
   "outputs": [
    {
     "name": "stdout",
     "output_type": "stream",
     "text": [
      "El asteroide no genera rayos de luz en el cielo\n"
     ]
    }
   ],
   "source": [
    "# Agrega el código para crear una variable para un asteroide que viaja a 19 km/s\n",
    "# Escribe varias expresiones de prueba para determinar si puedes ver el rayo de luz desde la tierra\n",
    "# Agrega las instrucciones que se ejecutarán si las expresiones de prueba son True o False\n",
    "\n",
    "AsteroidVel = 19\n",
    "\n",
    "if AsteroidVel >= 20:\n",
    "    print(\"Un asteroide se acerca a la tierra, busquen rayos de luz en el cielo\")\n",
    "else:\n",
    "    print(\"El asteroide no genera rayos de luz en el cielo\")"
   ]
  },
  {
   "cell_type": "code",
   "execution_count": 6,
   "metadata": {},
   "outputs": [
    {
     "name": "stdout",
     "output_type": "stream",
     "text": [
      "El asteroide se destruira en la atmosfera\n",
      "El asteroide provocara rayos en el cielo\n"
     ]
    }
   ],
   "source": [
    "# Agrega el código para crear nuevas variables para la velocidad y el tamaño del asteroide.\n",
    "# Para probar el código, prueba con varias velocidades y tamaños.\n",
    "# Escribe varias expresiones de prueba o combinaciones de expresiones de prueba para determinar qué mensaje se debe enviar a Tierra.\n",
    "# Si una pieza de un asteroide que es más grande que 25 metros pero más pequeña que 1000 metros golpeara la Tierra, causaría mucho daño.\n",
    "# Los asteroides de menos de 25 metros en su dimensión más grande probablemente se quemarán a medida que entren en la atmósfera de la Tierra.\n",
    "\n",
    "AsteroidVel = 40\n",
    "AstroDim = 20\n",
    "\n",
    "if AstroDim >= 25 and  AstroDim < 100:\n",
    "    print(\"Asteroide hara mucho daño a la tierra si su velocidad lo permite\")\n",
    "    if AsteroidVel >= 20 :\n",
    "        print(\"El asteroide provocara rayos en el cielo\")\n",
    "    else :\n",
    "        print(\"El asteroide NO provocara rayos en el cielo\")\n",
    "    if AsteroidVel > 25 :\n",
    "        print('La velocidad es suficiente para impactar el planeta, cuidado!')\n",
    "    else :\n",
    "        print(\"El asteroide no lleva velocidad suficiente, no hay peligro\")\n",
    "elif AstroDim < 25 :\n",
    "    print(\"El asteroide se destruira en la atmosfera\")\n",
    "    if AsteroidVel >= 20 :\n",
    "        print(\"El asteroide provocara rayos en el cielo\")\n",
    "    else :\n",
    "        print(\"El asteroide NO provocara rayos en el cielo\")\n"
   ]
  },
  {
   "cell_type": "code",
   "execution_count": null,
   "metadata": {},
   "outputs": [],
   "source": []
  }
 ],
 "metadata": {
  "interpreter": {
   "hash": "aee8b7b246df8f9039afb4144a1f6fd8d2ca17a180786b69acc140d282b71a49"
  },
  "kernelspec": {
   "display_name": "Python 3.10.2 64-bit",
   "language": "python",
   "name": "python3"
  },
  "language_info": {
   "codemirror_mode": {
    "name": "ipython",
    "version": 3
   },
   "file_extension": ".py",
   "mimetype": "text/x-python",
   "name": "python",
   "nbconvert_exporter": "python",
   "pygments_lexer": "ipython3",
   "version": "3.10.2"
  },
  "orig_nbformat": 4
 },
 "nbformat": 4,
 "nbformat_minor": 2
}
